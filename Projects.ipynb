{
 "cells": [
  {
   "cell_type": "markdown",
   "metadata": {},
   "source": [
    "# 1 Madlibs"
   ]
  },
  {
   "cell_type": "code",
   "execution_count": null,
   "metadata": {},
   "outputs": [],
   "source": []
  },
  {
   "cell_type": "code",
   "execution_count": null,
   "metadata": {},
   "outputs": [],
   "source": []
  },
  {
   "cell_type": "code",
   "execution_count": 1,
   "metadata": {},
   "outputs": [
    {
     "name": "stdout",
     "output_type": "stream",
     "text": [
      "Subscribe to abc\n",
      "subscribe to abc\n",
      "subscribe to abc\n"
     ]
    }
   ],
   "source": [
    "youtuber = 'abc'\n",
    "\n",
    "\n",
    "print('Subscribe to ' + youtuber)\n",
    "print('subscribe to {}'.format(youtuber))\n",
    "print(f'subscribe to {youtuber}')"
   ]
  },
  {
   "cell_type": "code",
   "execution_count": null,
   "metadata": {},
   "outputs": [],
   "source": []
  },
  {
   "cell_type": "code",
   "execution_count": 2,
   "metadata": {},
   "outputs": [
    {
     "name": "stdout",
     "output_type": "stream",
     "text": [
      "Adjective: tiresome\n",
      "Verb: sleep\n"
     ]
    },
    {
     "data": {
      "text/plain": [
       "'computer programming is so tiresome! It makes me so excited all the time because I love to sleep.'"
      ]
     },
     "execution_count": 2,
     "metadata": {},
     "output_type": "execute_result"
    }
   ],
   "source": [
    "adj = input('Adjective: ')\n",
    "verb1 = input('Verb: ')\n",
    "\n",
    "madlib = f'computer programming is so {adj}! It makes me so excited all the time because I love to {verb1}.'\n",
    "\n",
    "madlib"
   ]
  },
  {
   "cell_type": "code",
   "execution_count": null,
   "metadata": {},
   "outputs": [],
   "source": []
  },
  {
   "cell_type": "markdown",
   "metadata": {},
   "source": [
    "# 2 Guess the number(computer)"
   ]
  },
  {
   "cell_type": "code",
   "execution_count": 3,
   "metadata": {},
   "outputs": [],
   "source": [
    "import random"
   ]
  },
  {
   "cell_type": "code",
   "execution_count": 4,
   "metadata": {},
   "outputs": [
    {
     "name": "stdout",
     "output_type": "stream",
     "text": [
      "Guess a number between 1 and 10: 5\n",
      "too high\n",
      "Guess a number between 1 and 10: 2\n",
      "too low\n",
      "Guess a number between 1 and 10: 4\n",
      "you guessed 4 right\n"
     ]
    }
   ],
   "source": [
    "def guess(x):\n",
    "    random_num = random.randint(1,x)\n",
    "    guess = 0\n",
    "    while guess != random_num:\n",
    "        guess = int(input(f'Guess a number between 1 and {x}: '))\n",
    "        if guess < random_num:\n",
    "            print('too low')\n",
    "            \n",
    "        elif guess > random_num:\n",
    "            print('too high')\n",
    "        \n",
    "        \n",
    "    print(f'you guessed {random_num} right')\n",
    "        \n",
    "\n",
    "        \n",
    "guess(10)"
   ]
  },
  {
   "cell_type": "code",
   "execution_count": null,
   "metadata": {},
   "outputs": [],
   "source": []
  },
  {
   "cell_type": "markdown",
   "metadata": {},
   "source": [
    "# 3 Guess the number(user)"
   ]
  },
  {
   "cell_type": "code",
   "execution_count": 4,
   "metadata": {},
   "outputs": [
    {
     "name": "stdout",
     "output_type": "stream",
     "text": [
      "It's 8 if high type H, low L, correct C: 5\n",
      "It's 10 if high type H, low L, correct C: C\n",
      "the number is 10\n"
     ]
    }
   ],
   "source": [
    "def comp_guess(x):\n",
    "    low = 1\n",
    "    high = x\n",
    "    feedback = ''\n",
    "    while feedback != 'c':\n",
    "        if low != high:\n",
    "            guess = random.randint(low,high)\n",
    "        else:\n",
    "            guess = low\n",
    "        \n",
    "        feedback = input(f\"It's {guess} if high type H, low L, correct C: \").lower()\n",
    "        if feedback == 'h':\n",
    "            high = guess - 1\n",
    "        elif feedback == 'l':\n",
    "            low = guess + 1\n",
    "    \n",
    "    print(f'the number is {guess}')\n",
    "    \n",
    "    \n",
    "    \n",
    "comp_guess(10)"
   ]
  },
  {
   "cell_type": "code",
   "execution_count": null,
   "metadata": {},
   "outputs": [],
   "source": []
  },
  {
   "cell_type": "markdown",
   "metadata": {},
   "source": [
    "# 4 Rock paper scissors"
   ]
  },
  {
   "cell_type": "code",
   "execution_count": 5,
   "metadata": {},
   "outputs": [],
   "source": [
    "def play():\n",
    "    \n",
    "    user = input(\"Enter 'r' for rock, 's' for scissors, 'p' for papers\\n \")\n",
    "    comp = random.choice(['r', 'p', 's'])\n",
    "    \n",
    "    if user == comp:\n",
    "        return print(\"It's a tie!\")\n",
    "    \n",
    "    if win(user, comp):\n",
    "        return print('you won!')\n",
    "    \n",
    "    \n",
    "    return 'you lost'\n",
    "    \n",
    "    \n",
    "def win(player, opp):\n",
    "    if (player == 'r' and opp == 's') or (player == 'p' and opp == 'r') or (player == 's' and opp == 'p'):\n",
    "        return True"
   ]
  },
  {
   "cell_type": "code",
   "execution_count": 6,
   "metadata": {},
   "outputs": [
    {
     "name": "stdout",
     "output_type": "stream",
     "text": [
      "Enter 'r' for rock, 's' for scissors, 'p' for papers\n",
      " r\n",
      "It's a tie!\n"
     ]
    }
   ],
   "source": [
    "play()"
   ]
  },
  {
   "cell_type": "raw",
   "metadata": {},
   "source": []
  },
  {
   "cell_type": "markdown",
   "metadata": {},
   "source": [
    "# 5 Hangman"
   ]
  },
  {
   "cell_type": "code",
   "execution_count": 7,
   "metadata": {},
   "outputs": [],
   "source": [
    "from words import words\n",
    "\n",
    "import string"
   ]
  },
  {
   "cell_type": "code",
   "execution_count": 8,
   "metadata": {},
   "outputs": [
    {
     "data": {
      "text/plain": [
       "2643"
      ]
     },
     "execution_count": 8,
     "metadata": {},
     "output_type": "execute_result"
    }
   ],
   "source": [
    "len(words)"
   ]
  },
  {
   "cell_type": "code",
   "execution_count": 9,
   "metadata": {},
   "outputs": [],
   "source": [
    "def get_valid_word(words):\n",
    "    \n",
    "    word = random.choice(words)\n",
    "    \n",
    "    while '-' in word or ' ' in word:\n",
    "        word = random.choice(words)\n",
    "        \n",
    "    return word.upper()\n",
    "\n",
    "\n",
    "\n",
    "def hangman():   \n",
    "\n",
    "    word = get_valid_word(words)\n",
    "    word_letters = set(word)\n",
    "    alph = set(string.ascii_uppercase)\n",
    "    used_letters = set()\n",
    "    lives = 6\n",
    "\n",
    "    while len(word_letters) >0 and lives > 0:\n",
    "\n",
    "        print('you have ', lives, 'lives left and you have used these letters: ', ' '.join(used_letters))\n",
    "\n",
    "        word_list = [letter if letter in used_letters else '-' for letter in word]\n",
    "\n",
    "        print('current word: ', ' '.join(word_list))\n",
    "\n",
    "        used_letter = input('Type a letter: ').upper()\n",
    "\n",
    "        if used_letter in alph - used_letters:\n",
    "            used_letters.add(used_letter)\n",
    "\n",
    "            if used_letter in word_letters:\n",
    "                word_letters.remove(used_letter)\n",
    "                \n",
    "            else:\n",
    "                lives -= 1 \n",
    "                print('letter is not in word')\n",
    "\n",
    "        elif used_letter in used_letters:\n",
    "            print('you already guessed that, please try again')\n",
    "        else:\n",
    "            print('invalid input')\n",
    "        \n",
    "        word_list = [letter if letter in used_letters else '-' for letter in word]\n",
    "\n",
    "    if lives == 0:\n",
    "        print(\"You ded bro XD , your dumbass couldn't even guess\", word,'lol.')\n",
    "    else:\n",
    "        print('you guessed the word', word, '!!')\n",
    "\n",
    "\n",
    "\n"
   ]
  },
  {
   "cell_type": "code",
   "execution_count": 10,
   "metadata": {},
   "outputs": [
    {
     "name": "stdout",
     "output_type": "stream",
     "text": [
      "you have  6 lives left and you have used these letters:  \n",
      "current word:  - - - - -\n",
      "Type a letter: r\n",
      "letter is not in word\n",
      "you have  5 lives left and you have used these letters:  R\n",
      "current word:  - - - - -\n",
      "Type a letter: a\n",
      "letter is not in word\n",
      "you have  4 lives left and you have used these letters:  A R\n",
      "current word:  - - - - -\n",
      "Type a letter: e\n",
      "you have  4 lives left and you have used these letters:  A R E\n",
      "current word:  - - E E -\n",
      "Type a letter: s\n",
      "you have  4 lives left and you have used these letters:  A R E S\n",
      "current word:  S - E E -\n",
      "Type a letter: l\n",
      "letter is not in word\n",
      "you have  3 lives left and you have used these letters:  L E S A R\n",
      "current word:  S - E E -\n",
      "Type a letter: t\n",
      "you have  3 lives left and you have used these letters:  L E S A T R\n",
      "current word:  S - E E T\n",
      "Type a letter: k\n",
      "letter is not in word\n",
      "you have  2 lives left and you have used these letters:  L E S K A T R\n",
      "current word:  S - E E T\n",
      "Type a letter: w\n",
      "you guessed the word SWEET !!\n"
     ]
    }
   ],
   "source": [
    "hangman()"
   ]
  },
  {
   "cell_type": "code",
   "execution_count": null,
   "metadata": {},
   "outputs": [],
   "source": []
  },
  {
   "cell_type": "code",
   "execution_count": null,
   "metadata": {},
   "outputs": [],
   "source": []
  },
  {
   "cell_type": "markdown",
   "metadata": {},
   "source": [
    "# 6 Tic-Tac-Toe"
   ]
  },
  {
   "cell_type": "markdown",
   "metadata": {},
   "source": [
    "Player"
   ]
  },
  {
   "cell_type": "code",
   "execution_count": 12,
   "metadata": {},
   "outputs": [],
   "source": [
    "import math\n",
    "import random\n",
    "\n",
    "\n",
    "class Player():\n",
    "    def __init__(self, letter):\n",
    "        self.letter = letter\n",
    "\n",
    "    def get_move(self, game):\n",
    "        pass\n",
    "\n",
    "\n",
    "class HumanPlayer(Player):\n",
    "    def __init__(self, letter):\n",
    "        super().__init__(letter)\n",
    "\n",
    "    def get_move(self, game):\n",
    "        valid_square = False\n",
    "        val = None\n",
    "        while not valid_square:\n",
    "            square = input(self.letter + '\\'s turn. Input move (0-9): ')\n",
    "            try:\n",
    "                val = int(square)\n",
    "                if val not in game.available_moves():\n",
    "                    raise ValueError\n",
    "                valid_square = True\n",
    "            except ValueError:\n",
    "                print('Invalid square. Try again.')\n",
    "        return val\n",
    "\n",
    "\n",
    "class RandomComputerPlayer(Player):\n",
    "    def __init__(self, letter):\n",
    "        super().__init__(letter)\n",
    "\n",
    "    def get_move(self, game):\n",
    "        square = random.choice(game.available_moves())\n",
    "        return square\n",
    "\n",
    "\n",
    "class GeniusCompPlayer(Player):\n",
    "    def __init__(self,letter):\n",
    "        super().__init__(letter)\n",
    "    def get_move(self, game):\n",
    "\n",
    "        if len(game.available_moves()) == 9:\n",
    "            square = random.choice(game.available_moves())\n",
    "        else:\n",
    "            square = self.minimax(game, self.letter)['position']\n",
    "\n",
    "        return square\n",
    "\n",
    "    def minimax(self, state, player):\n",
    "        max_player = self.letter  # yourself\n",
    "        other_player = 'O' if player == 'X' else 'X'\n",
    "\n",
    "        if state.current_winner == other_player:\n",
    "            return {'position': None, 'score': 1 * (state.num_empty_squares() + 1) if other_player == max_player else -1 * (\n",
    "                        state.num_empty_squares() + 1)}\n",
    "        elif not state.empty_squares():\n",
    "            return {'position': None, 'score': 0}\n",
    "\n",
    "        if player == max_player:\n",
    "            best = {'position': None, 'score': -math.inf}\n",
    "        else:\n",
    "            best = {'position': None, 'score': math.inf}\n",
    "        for possible_move in state.available_moves():\n",
    "            state.make_move(possible_move, player)\n",
    "            sim_score = self.minimax(state, other_player)\n",
    "\n",
    "\n",
    "            state.board[possible_move] = ' '\n",
    "            state.current_winner = None\n",
    "            sim_score['position'] = possible_move\n",
    "\n",
    "            if player == max_player:\n",
    "                if sim_score['score'] > best['score']:\n",
    "                    best = sim_score\n",
    "            else:\n",
    "                if sim_score['score'] < best['score']:\n",
    "                    best = sim_score\n",
    "        return best\n"
   ]
  },
  {
   "cell_type": "markdown",
   "metadata": {},
   "source": [
    "#### Game"
   ]
  },
  {
   "cell_type": "code",
   "execution_count": 14,
   "metadata": {},
   "outputs": [
    {
     "name": "stdout",
     "output_type": "stream",
     "text": [
      "| 0 | 1 | 2 |\n",
      "| 3 | 4 | 5 |\n",
      "| 6 | 7 | 8 |\n",
      "X's turn. Input move (0-9): X\n",
      "Invalid square. Try again.\n",
      "X's turn. Input move (0-9): 4\n",
      "X makes a move to square 4\n",
      "|   |   |   |\n",
      "|   | X |   |\n",
      "|   |   |   |\n",
      "\n",
      "O makes a move to square 5\n",
      "|   |   |   |\n",
      "|   | X | O |\n",
      "|   |   |   |\n",
      "\n",
      "X's turn. Input move (0-9): 8\n",
      "X makes a move to square 8\n",
      "|   |   |   |\n",
      "|   | X | O |\n",
      "|   |   | X |\n",
      "\n",
      "O makes a move to square 3\n",
      "|   |   |   |\n",
      "| O | X | O |\n",
      "|   |   | X |\n",
      "\n",
      "X's turn. Input move (0-9): 0\n",
      "X makes a move to square 0\n",
      "| X |   |   |\n",
      "| O | X | O |\n",
      "|   |   | X |\n",
      "\n",
      "X wins!\n"
     ]
    }
   ],
   "source": [
    "import time\n",
    "\n",
    "class TicTacToe():\n",
    "    def __init__(self):\n",
    "        self.board = self.make_board()\n",
    "        self.current_winner = None\n",
    "\n",
    "    @staticmethod\n",
    "    def make_board():\n",
    "        return [' ' for _ in range(9)]\n",
    "\n",
    "    def print_board(self):\n",
    "        for row in [self.board[i*3:(i+1) * 3] for i in range(3)]:\n",
    "            print('| ' + ' | '.join(row) + ' |')\n",
    "\n",
    "    @staticmethod\n",
    "    def print_board_nums():\n",
    "        # 0 | 1 | 2\n",
    "        number_board = [[str(i) for i in range(j*3, (j+1)*3)] for j in range(3)]\n",
    "        for row in number_board:\n",
    "            print('| ' + ' | '.join(row) + ' |')\n",
    "\n",
    "    def make_move(self, square, letter):\n",
    "        if self.board[square] == ' ':\n",
    "            self.board[square] = letter\n",
    "            if self.winner(square, letter):\n",
    "                self.current_winner = letter\n",
    "            return True\n",
    "        return False\n",
    "\n",
    "    def winner(self, square, letter):\n",
    "        # check the row\n",
    "        row_ind = math.floor(square / 3)\n",
    "        row = self.board[row_ind*3:(row_ind+1)*3]\n",
    "        # print('row', row)\n",
    "        if all([s == letter for s in row]):\n",
    "            return True\n",
    "        col_ind = square % 3\n",
    "        column = [self.board[col_ind+i*3] for i in range(3)]\n",
    "        # print('col', column)\n",
    "        if all([s == letter for s in column]):\n",
    "            return True\n",
    "        if square % 2 == 0:\n",
    "            diagonal1 = [self.board[i] for i in [0, 4, 8]]\n",
    "            # print('diag1', diagonal1)\n",
    "            if all([s == letter for s in diagonal1]):\n",
    "                return True\n",
    "            diagonal2 = [self.board[i] for i in [2, 4, 6]]\n",
    "            # print('diag2', diagonal2)\n",
    "            if all([s == letter for s in diagonal2]):\n",
    "                return True\n",
    "        return False\n",
    "\n",
    "    def empty_squares(self):\n",
    "        return ' ' in self.board\n",
    "\n",
    "    def num_empty_squares(self):\n",
    "        return self.board.count(' ')\n",
    "\n",
    "    def available_moves(self):\n",
    "        return [i for i, x in enumerate(self.board) if x == \" \"]\n",
    "\n",
    "\n",
    "def play(game, x_player, o_player, print_game=True):\n",
    "\n",
    "    if print_game:\n",
    "        game.print_board_nums()\n",
    "\n",
    "    letter = 'X'\n",
    "    while game.empty_squares():\n",
    "        if letter == 'O':\n",
    "            square = o_player.get_move(game)\n",
    "        else:\n",
    "            square = x_player.get_move(game)\n",
    "        if game.make_move(square, letter):\n",
    "\n",
    "            if print_game:\n",
    "                print(letter + ' makes a move to square {}'.format(square))\n",
    "                game.print_board()\n",
    "                print('')\n",
    "\n",
    "            if game.current_winner:\n",
    "                if print_game:\n",
    "                    print(letter + ' wins!')\n",
    "                return letter  # ends the loop and exits the game\n",
    "            letter = 'O' if letter == 'X' else 'X'  # switches player\n",
    "\n",
    "        time.sleep(.8)\n",
    "\n",
    "    if print_game:\n",
    "        print('It\\'s a tie!')\n",
    "\n",
    "\n",
    "\n",
    "if __name__ == '__main__':\n",
    "    x_player = HumanPlayer('X')\n",
    "    o_player = GeniusCompPlayer('O')\n",
    "    t = TicTacToe()\n",
    "    play(t, x_player, o_player, print_game=True)"
   ]
  },
  {
   "cell_type": "code",
   "execution_count": null,
   "metadata": {},
   "outputs": [],
   "source": []
  },
  {
   "cell_type": "code",
   "execution_count": null,
   "metadata": {},
   "outputs": [],
   "source": []
  },
  {
   "cell_type": "markdown",
   "metadata": {},
   "source": [
    "# 7 Binary Search"
   ]
  },
  {
   "cell_type": "code",
   "execution_count": 11,
   "metadata": {
    "scrolled": true
   },
   "outputs": [
    {
     "data": {
      "text/plain": [
       "3"
      ]
     },
     "execution_count": 11,
     "metadata": {},
     "output_type": "execute_result"
    }
   ],
   "source": [
    "def naive_search(ls, target):\n",
    "    for i in range(len(ls)):\n",
    "        if ls[i] == target:\n",
    "            return i\n",
    "    return -1\n",
    "\n",
    "def binary_search(ls, target, low = None, high=None):\n",
    "    if low is None:\n",
    "        low = 0\n",
    "    if high is None:\n",
    "        high = len(ls) - 1\n",
    "    if high<low:\n",
    "        return -1\n",
    "    \n",
    "    \n",
    "    mid_pt = (low +high)// 2\n",
    "    \n",
    "    if ls[mid_pt]==target:\n",
    "        \n",
    "        return mid_pt\n",
    "    \n",
    "    \n",
    "    elif target < ls[mid_pt]:\n",
    "        return binary_search(ls, target, low, mid_pt -1)\n",
    "    \n",
    "    \n",
    "    else:\n",
    "        return binary_search(ls, target, mid_pt+1, high)\n",
    "    \n",
    "    \n",
    "# if __name__ == '__main__':\n",
    "l = [1,3,5,10,12]\n",
    "target = 10\n",
    "    \n",
    "binary_search(l, target)"
   ]
  },
  {
   "cell_type": "code",
   "execution_count": 12,
   "metadata": {},
   "outputs": [
    {
     "data": {
      "text/plain": [
       "3"
      ]
     },
     "execution_count": 12,
     "metadata": {},
     "output_type": "execute_result"
    }
   ],
   "source": [
    "binary_search(l,10)"
   ]
  },
  {
   "cell_type": "code",
   "execution_count": null,
   "metadata": {},
   "outputs": [],
   "source": []
  },
  {
   "cell_type": "markdown",
   "metadata": {},
   "source": [
    "# 9 Minesweeper"
   ]
  },
  {
   "cell_type": "code",
   "execution_count": 26,
   "metadata": {
    "scrolled": false
   },
   "outputs": [
    {
     "name": "stdout",
     "output_type": "stream",
     "text": [
      "   0  1  2  3  4  5  6  7  8  9  \n",
      "----------------------------------\n",
      "0 |  |  |  |  |  |  |  |  |  |  |\n",
      "1 |  |  |  |  |  |  |  |  |  |  |\n",
      "2 |  |  |  |  |  |  |  |  |  |  |\n",
      "3 |  |  |  |  |  |  |  |  |  |  |\n",
      "4 |  |  |  |  |  |  |  |  |  |  |\n",
      "5 |  |  |  |  |  |  |  |  |  |  |\n",
      "6 |  |  |  |  |  |  |  |  |  |  |\n",
      "7 |  |  |  |  |  |  |  |  |  |  |\n",
      "8 |  |  |  |  |  |  |  |  |  |  |\n",
      "9 |  |  |  |  |  |  |  |  |  |  |\n",
      "----------------------------------\n",
      "Where to dig? input as row,col: 0,0\n"
     ]
    },
    {
     "ename": "IndexError",
     "evalue": "list index out of range",
     "output_type": "error",
     "traceback": [
      "\u001b[1;31m---------------------------------------------------------------------------\u001b[0m",
      "\u001b[1;31mIndexError\u001b[0m                                Traceback (most recent call last)",
      "\u001b[1;32m<ipython-input-26-f629d91bff75>\u001b[0m in \u001b[0;36m<module>\u001b[1;34m\u001b[0m\n\u001b[0;32m    140\u001b[0m         \u001b[0mprint\u001b[0m\u001b[1;33m(\u001b[0m\u001b[0mboard\u001b[0m\u001b[1;33m)\u001b[0m\u001b[1;33m\u001b[0m\u001b[1;33m\u001b[0m\u001b[0m\n\u001b[0;32m    141\u001b[0m \u001b[1;33m\u001b[0m\u001b[0m\n\u001b[1;32m--> 142\u001b[1;33m \u001b[0mplay\u001b[0m\u001b[1;33m(\u001b[0m\u001b[1;33m)\u001b[0m\u001b[1;33m\u001b[0m\u001b[1;33m\u001b[0m\u001b[0m\n\u001b[0m",
      "\u001b[1;32m<ipython-input-26-f629d91bff75>\u001b[0m in \u001b[0;36mplay\u001b[1;34m(dim_size, num_bombs)\u001b[0m\n\u001b[0;32m    126\u001b[0m             \u001b[0mprint\u001b[0m\u001b[1;33m(\u001b[0m\u001b[1;34m'invalid location, try again'\u001b[0m\u001b[1;33m)\u001b[0m\u001b[1;33m\u001b[0m\u001b[1;33m\u001b[0m\u001b[0m\n\u001b[0;32m    127\u001b[0m \u001b[1;33m\u001b[0m\u001b[0m\n\u001b[1;32m--> 128\u001b[1;33m         \u001b[0msafe\u001b[0m \u001b[1;33m=\u001b[0m \u001b[0mboard\u001b[0m\u001b[1;33m.\u001b[0m\u001b[0mdig\u001b[0m\u001b[1;33m(\u001b[0m\u001b[0mrow\u001b[0m\u001b[1;33m,\u001b[0m\u001b[0mcol\u001b[0m\u001b[1;33m)\u001b[0m\u001b[1;33m\u001b[0m\u001b[1;33m\u001b[0m\u001b[0m\n\u001b[0m\u001b[0;32m    129\u001b[0m         \u001b[1;32mif\u001b[0m \u001b[1;32mnot\u001b[0m \u001b[0msafe\u001b[0m\u001b[1;33m:\u001b[0m\u001b[1;33m\u001b[0m\u001b[1;33m\u001b[0m\u001b[0m\n\u001b[0;32m    130\u001b[0m \u001b[1;33m\u001b[0m\u001b[0m\n",
      "\u001b[1;32m<ipython-input-26-f629d91bff75>\u001b[0m in \u001b[0;36mdig\u001b[1;34m(self, row, col)\u001b[0m\n\u001b[0;32m     66\u001b[0m \u001b[1;33m\u001b[0m\u001b[0m\n\u001b[0;32m     67\u001b[0m                     \u001b[1;32mcontinue\u001b[0m\u001b[1;33m\u001b[0m\u001b[1;33m\u001b[0m\u001b[0m\n\u001b[1;32m---> 68\u001b[1;33m                 \u001b[0mself\u001b[0m\u001b[1;33m.\u001b[0m\u001b[0mdig\u001b[0m\u001b[1;33m(\u001b[0m\u001b[0mr\u001b[0m\u001b[1;33m,\u001b[0m\u001b[0mc\u001b[0m\u001b[1;33m)\u001b[0m\u001b[1;33m\u001b[0m\u001b[1;33m\u001b[0m\u001b[0m\n\u001b[0m\u001b[0;32m     69\u001b[0m \u001b[1;33m\u001b[0m\u001b[0m\n\u001b[0;32m     70\u001b[0m         \u001b[1;32mreturn\u001b[0m \u001b[1;32mTrue\u001b[0m\u001b[1;33m\u001b[0m\u001b[1;33m\u001b[0m\u001b[0m\n",
      "\u001b[1;32m<ipython-input-26-f629d91bff75>\u001b[0m in \u001b[0;36mdig\u001b[1;34m(self, row, col)\u001b[0m\n\u001b[0;32m     66\u001b[0m \u001b[1;33m\u001b[0m\u001b[0m\n\u001b[0;32m     67\u001b[0m                     \u001b[1;32mcontinue\u001b[0m\u001b[1;33m\u001b[0m\u001b[1;33m\u001b[0m\u001b[0m\n\u001b[1;32m---> 68\u001b[1;33m                 \u001b[0mself\u001b[0m\u001b[1;33m.\u001b[0m\u001b[0mdig\u001b[0m\u001b[1;33m(\u001b[0m\u001b[0mr\u001b[0m\u001b[1;33m,\u001b[0m\u001b[0mc\u001b[0m\u001b[1;33m)\u001b[0m\u001b[1;33m\u001b[0m\u001b[1;33m\u001b[0m\u001b[0m\n\u001b[0m\u001b[0;32m     69\u001b[0m \u001b[1;33m\u001b[0m\u001b[0m\n\u001b[0;32m     70\u001b[0m         \u001b[1;32mreturn\u001b[0m \u001b[1;32mTrue\u001b[0m\u001b[1;33m\u001b[0m\u001b[1;33m\u001b[0m\u001b[0m\n",
      "\u001b[1;32m<ipython-input-26-f629d91bff75>\u001b[0m in \u001b[0;36mdig\u001b[1;34m(self, row, col)\u001b[0m\n\u001b[0;32m     66\u001b[0m \u001b[1;33m\u001b[0m\u001b[0m\n\u001b[0;32m     67\u001b[0m                     \u001b[1;32mcontinue\u001b[0m\u001b[1;33m\u001b[0m\u001b[1;33m\u001b[0m\u001b[0m\n\u001b[1;32m---> 68\u001b[1;33m                 \u001b[0mself\u001b[0m\u001b[1;33m.\u001b[0m\u001b[0mdig\u001b[0m\u001b[1;33m(\u001b[0m\u001b[0mr\u001b[0m\u001b[1;33m,\u001b[0m\u001b[0mc\u001b[0m\u001b[1;33m)\u001b[0m\u001b[1;33m\u001b[0m\u001b[1;33m\u001b[0m\u001b[0m\n\u001b[0m\u001b[0;32m     69\u001b[0m \u001b[1;33m\u001b[0m\u001b[0m\n\u001b[0;32m     70\u001b[0m         \u001b[1;32mreturn\u001b[0m \u001b[1;32mTrue\u001b[0m\u001b[1;33m\u001b[0m\u001b[1;33m\u001b[0m\u001b[0m\n",
      "\u001b[1;32m<ipython-input-26-f629d91bff75>\u001b[0m in \u001b[0;36mdig\u001b[1;34m(self, row, col)\u001b[0m\n\u001b[0;32m     66\u001b[0m \u001b[1;33m\u001b[0m\u001b[0m\n\u001b[0;32m     67\u001b[0m                     \u001b[1;32mcontinue\u001b[0m\u001b[1;33m\u001b[0m\u001b[1;33m\u001b[0m\u001b[0m\n\u001b[1;32m---> 68\u001b[1;33m                 \u001b[0mself\u001b[0m\u001b[1;33m.\u001b[0m\u001b[0mdig\u001b[0m\u001b[1;33m(\u001b[0m\u001b[0mr\u001b[0m\u001b[1;33m,\u001b[0m\u001b[0mc\u001b[0m\u001b[1;33m)\u001b[0m\u001b[1;33m\u001b[0m\u001b[1;33m\u001b[0m\u001b[0m\n\u001b[0m\u001b[0;32m     69\u001b[0m \u001b[1;33m\u001b[0m\u001b[0m\n\u001b[0;32m     70\u001b[0m         \u001b[1;32mreturn\u001b[0m \u001b[1;32mTrue\u001b[0m\u001b[1;33m\u001b[0m\u001b[1;33m\u001b[0m\u001b[0m\n",
      "\u001b[1;32m<ipython-input-26-f629d91bff75>\u001b[0m in \u001b[0;36mdig\u001b[1;34m(self, row, col)\u001b[0m\n\u001b[0;32m     66\u001b[0m \u001b[1;33m\u001b[0m\u001b[0m\n\u001b[0;32m     67\u001b[0m                     \u001b[1;32mcontinue\u001b[0m\u001b[1;33m\u001b[0m\u001b[1;33m\u001b[0m\u001b[0m\n\u001b[1;32m---> 68\u001b[1;33m                 \u001b[0mself\u001b[0m\u001b[1;33m.\u001b[0m\u001b[0mdig\u001b[0m\u001b[1;33m(\u001b[0m\u001b[0mr\u001b[0m\u001b[1;33m,\u001b[0m\u001b[0mc\u001b[0m\u001b[1;33m)\u001b[0m\u001b[1;33m\u001b[0m\u001b[1;33m\u001b[0m\u001b[0m\n\u001b[0m\u001b[0;32m     69\u001b[0m \u001b[1;33m\u001b[0m\u001b[0m\n\u001b[0;32m     70\u001b[0m         \u001b[1;32mreturn\u001b[0m \u001b[1;32mTrue\u001b[0m\u001b[1;33m\u001b[0m\u001b[1;33m\u001b[0m\u001b[0m\n",
      "\u001b[1;32m<ipython-input-26-f629d91bff75>\u001b[0m in \u001b[0;36mdig\u001b[1;34m(self, row, col)\u001b[0m\n\u001b[0;32m     66\u001b[0m \u001b[1;33m\u001b[0m\u001b[0m\n\u001b[0;32m     67\u001b[0m                     \u001b[1;32mcontinue\u001b[0m\u001b[1;33m\u001b[0m\u001b[1;33m\u001b[0m\u001b[0m\n\u001b[1;32m---> 68\u001b[1;33m                 \u001b[0mself\u001b[0m\u001b[1;33m.\u001b[0m\u001b[0mdig\u001b[0m\u001b[1;33m(\u001b[0m\u001b[0mr\u001b[0m\u001b[1;33m,\u001b[0m\u001b[0mc\u001b[0m\u001b[1;33m)\u001b[0m\u001b[1;33m\u001b[0m\u001b[1;33m\u001b[0m\u001b[0m\n\u001b[0m\u001b[0;32m     69\u001b[0m \u001b[1;33m\u001b[0m\u001b[0m\n\u001b[0;32m     70\u001b[0m         \u001b[1;32mreturn\u001b[0m \u001b[1;32mTrue\u001b[0m\u001b[1;33m\u001b[0m\u001b[1;33m\u001b[0m\u001b[0m\n",
      "\u001b[1;32m<ipython-input-26-f629d91bff75>\u001b[0m in \u001b[0;36mdig\u001b[1;34m(self, row, col)\u001b[0m\n\u001b[0;32m     66\u001b[0m \u001b[1;33m\u001b[0m\u001b[0m\n\u001b[0;32m     67\u001b[0m                     \u001b[1;32mcontinue\u001b[0m\u001b[1;33m\u001b[0m\u001b[1;33m\u001b[0m\u001b[0m\n\u001b[1;32m---> 68\u001b[1;33m                 \u001b[0mself\u001b[0m\u001b[1;33m.\u001b[0m\u001b[0mdig\u001b[0m\u001b[1;33m(\u001b[0m\u001b[0mr\u001b[0m\u001b[1;33m,\u001b[0m\u001b[0mc\u001b[0m\u001b[1;33m)\u001b[0m\u001b[1;33m\u001b[0m\u001b[1;33m\u001b[0m\u001b[0m\n\u001b[0m\u001b[0;32m     69\u001b[0m \u001b[1;33m\u001b[0m\u001b[0m\n\u001b[0;32m     70\u001b[0m         \u001b[1;32mreturn\u001b[0m \u001b[1;32mTrue\u001b[0m\u001b[1;33m\u001b[0m\u001b[1;33m\u001b[0m\u001b[0m\n",
      "\u001b[1;32m<ipython-input-26-f629d91bff75>\u001b[0m in \u001b[0;36mdig\u001b[1;34m(self, row, col)\u001b[0m\n\u001b[0;32m     66\u001b[0m \u001b[1;33m\u001b[0m\u001b[0m\n\u001b[0;32m     67\u001b[0m                     \u001b[1;32mcontinue\u001b[0m\u001b[1;33m\u001b[0m\u001b[1;33m\u001b[0m\u001b[0m\n\u001b[1;32m---> 68\u001b[1;33m                 \u001b[0mself\u001b[0m\u001b[1;33m.\u001b[0m\u001b[0mdig\u001b[0m\u001b[1;33m(\u001b[0m\u001b[0mr\u001b[0m\u001b[1;33m,\u001b[0m\u001b[0mc\u001b[0m\u001b[1;33m)\u001b[0m\u001b[1;33m\u001b[0m\u001b[1;33m\u001b[0m\u001b[0m\n\u001b[0m\u001b[0;32m     69\u001b[0m \u001b[1;33m\u001b[0m\u001b[0m\n\u001b[0;32m     70\u001b[0m         \u001b[1;32mreturn\u001b[0m \u001b[1;32mTrue\u001b[0m\u001b[1;33m\u001b[0m\u001b[1;33m\u001b[0m\u001b[0m\n",
      "\u001b[1;32m<ipython-input-26-f629d91bff75>\u001b[0m in \u001b[0;36mdig\u001b[1;34m(self, row, col)\u001b[0m\n\u001b[0;32m     66\u001b[0m \u001b[1;33m\u001b[0m\u001b[0m\n\u001b[0;32m     67\u001b[0m                     \u001b[1;32mcontinue\u001b[0m\u001b[1;33m\u001b[0m\u001b[1;33m\u001b[0m\u001b[0m\n\u001b[1;32m---> 68\u001b[1;33m                 \u001b[0mself\u001b[0m\u001b[1;33m.\u001b[0m\u001b[0mdig\u001b[0m\u001b[1;33m(\u001b[0m\u001b[0mr\u001b[0m\u001b[1;33m,\u001b[0m\u001b[0mc\u001b[0m\u001b[1;33m)\u001b[0m\u001b[1;33m\u001b[0m\u001b[1;33m\u001b[0m\u001b[0m\n\u001b[0m\u001b[0;32m     69\u001b[0m \u001b[1;33m\u001b[0m\u001b[0m\n\u001b[0;32m     70\u001b[0m         \u001b[1;32mreturn\u001b[0m \u001b[1;32mTrue\u001b[0m\u001b[1;33m\u001b[0m\u001b[1;33m\u001b[0m\u001b[0m\n",
      "\u001b[1;32m<ipython-input-26-f629d91bff75>\u001b[0m in \u001b[0;36mdig\u001b[1;34m(self, row, col)\u001b[0m\n\u001b[0;32m     66\u001b[0m \u001b[1;33m\u001b[0m\u001b[0m\n\u001b[0;32m     67\u001b[0m                     \u001b[1;32mcontinue\u001b[0m\u001b[1;33m\u001b[0m\u001b[1;33m\u001b[0m\u001b[0m\n\u001b[1;32m---> 68\u001b[1;33m                 \u001b[0mself\u001b[0m\u001b[1;33m.\u001b[0m\u001b[0mdig\u001b[0m\u001b[1;33m(\u001b[0m\u001b[0mr\u001b[0m\u001b[1;33m,\u001b[0m\u001b[0mc\u001b[0m\u001b[1;33m)\u001b[0m\u001b[1;33m\u001b[0m\u001b[1;33m\u001b[0m\u001b[0m\n\u001b[0m\u001b[0;32m     69\u001b[0m \u001b[1;33m\u001b[0m\u001b[0m\n\u001b[0;32m     70\u001b[0m         \u001b[1;32mreturn\u001b[0m \u001b[1;32mTrue\u001b[0m\u001b[1;33m\u001b[0m\u001b[1;33m\u001b[0m\u001b[0m\n",
      "\u001b[1;32m<ipython-input-26-f629d91bff75>\u001b[0m in \u001b[0;36mdig\u001b[1;34m(self, row, col)\u001b[0m\n\u001b[0;32m     55\u001b[0m         \u001b[0mself\u001b[0m\u001b[1;33m.\u001b[0m\u001b[0mdug\u001b[0m\u001b[1;33m.\u001b[0m\u001b[0madd\u001b[0m\u001b[1;33m(\u001b[0m\u001b[1;33m(\u001b[0m\u001b[0mrow\u001b[0m\u001b[1;33m,\u001b[0m\u001b[0mcol\u001b[0m\u001b[1;33m)\u001b[0m\u001b[1;33m)\u001b[0m\u001b[1;33m\u001b[0m\u001b[1;33m\u001b[0m\u001b[0m\n\u001b[0;32m     56\u001b[0m \u001b[1;33m\u001b[0m\u001b[0m\n\u001b[1;32m---> 57\u001b[1;33m         \u001b[1;32mif\u001b[0m \u001b[0mself\u001b[0m\u001b[1;33m.\u001b[0m\u001b[0mboard\u001b[0m\u001b[1;33m[\u001b[0m\u001b[0mrow\u001b[0m\u001b[1;33m]\u001b[0m\u001b[1;33m[\u001b[0m\u001b[0mcol\u001b[0m\u001b[1;33m]\u001b[0m \u001b[1;33m==\u001b[0m \u001b[1;34m'*'\u001b[0m\u001b[1;33m:\u001b[0m\u001b[1;33m\u001b[0m\u001b[1;33m\u001b[0m\u001b[0m\n\u001b[0m\u001b[0;32m     58\u001b[0m             \u001b[1;32mreturn\u001b[0m \u001b[1;32mFalse\u001b[0m\u001b[1;33m\u001b[0m\u001b[1;33m\u001b[0m\u001b[0m\n\u001b[0;32m     59\u001b[0m \u001b[1;33m\u001b[0m\u001b[0m\n",
      "\u001b[1;31mIndexError\u001b[0m: list index out of range"
     ]
    }
   ],
   "source": [
    "import random\n",
    "import re\n",
    "\n",
    "class Board:\n",
    "    def __init__(self, dim_size,num_bombs):\n",
    "        \n",
    "        self.dim_size = dim_size\n",
    "        self.num_bombs = num_bombs\n",
    "\n",
    "\n",
    "        self.board = self.make_new_board()\n",
    "        self.assign_values_to_board()\n",
    "        \n",
    "        self.dug = set()\n",
    "        \n",
    "    def make_new_board(self):\n",
    "        \n",
    "        board = [[None for _ in range(self.dim_size)] for _ in range(self.dim_size)]\n",
    "        bombs_planted = 0\n",
    "            \n",
    "        while bombs_planted < self.num_bombs:\n",
    "            loc= random.randint(0, self.dim_size**2 -1)\n",
    "            row = loc// self.dim_size\n",
    "            col = loc % self.dim_size\n",
    "                \n",
    "            if board[row][col]=='*':\n",
    "                continue\n",
    "            board[row][col]=='*'\n",
    "            bombs_planted += 1\n",
    "                \n",
    "        return board\n",
    "        \n",
    "    def assign_values_to_board(self):\n",
    "        for r in range(self.dim_size):\n",
    "            for c in range(self.dim_size):\n",
    "                if self.board[r][c] == '*':\n",
    "                    continue\n",
    "                        \n",
    "                self.board[r][c] = self.get_num_neighbouring_bombs(r,c)\n",
    "        \n",
    "    def get_num_neighbouring_bombs(self, row, col):\n",
    "            \n",
    "        num_neighbouring_bombs = 0\n",
    "        for r in range(max(0, row-1), min(self.dim_size-1 ,row+1)+1):\n",
    "            for c in range(max(0,col-1), min(self.dim_size-1,col+1)+1):\n",
    "                if r == row and c == col:\n",
    "                    continue\n",
    "                               \n",
    "                if self.board[r][c] == '*':\n",
    "                    num_neighbouring_bombs += 1\n",
    "        \n",
    "        return num_neighbouring_bombs\n",
    "\n",
    "    def dig(self, row, col):\n",
    "        self.dug.add((row,col))\n",
    "        \n",
    "        if self.board[row][col] == '*':\n",
    "            return False\n",
    "        \n",
    "        elif self.board[row][col]>0:\n",
    "            return True\n",
    "        \n",
    "        for r in range(max(0, row-1), min(self.dim_size,row+1)+1):\n",
    "            for c in range(max(0,col-1), min(self.dim_size,col+1)+1):\n",
    "                if(r,c) in self.dug:\n",
    "                    \n",
    "                    continue\n",
    "                self.dig(r,c)\n",
    "                \n",
    "        return True\n",
    "    \n",
    "    def __str__(self):\n",
    "        visible_board = [[None for _ in range(self.dim_size)]for _ in range(self.dim_size)]\n",
    "        \n",
    "        for row in range(self.dim_size):\n",
    "            for col in range(self.dim_size):\n",
    "                if (row,col) in self.dug:\n",
    "                    visible_board[row][col]= str(self.board[row][col])\n",
    "                else:\n",
    "                    visible_board[row][col] = ' '\n",
    "                    \n",
    "        string_rep = ''\n",
    "        widths = []\n",
    "        \n",
    "        for idx in range(self.dim_size):\n",
    "            columns = map(lambda x: x[idx], visible_board)\n",
    "            widths.append(len(max(columns, key = len)))\n",
    "            \n",
    "        \n",
    "        indices = [i for i in range(self.dim_size)]\n",
    "        indices_row = '   '\n",
    "        cells = []\n",
    "        for idx, col in enumerate(indices):\n",
    "            format = '%-'+ str(widths[idx]) + 's'\n",
    "            cells.append(format % (col))\n",
    "        indices_row += '  '.join(cells)\n",
    "        indices_row += '  \\n'\n",
    "        \n",
    "        for i in range(len(visible_board)):\n",
    "            row = visible_board[i]\n",
    "            string_rep += f'{i} |'\n",
    "            cells = []\n",
    "            for idx, col in enumerate(row):\n",
    "                format = '%-' + str(widths[idx]) + \"s\"\n",
    "                cells.append(format % (col))\n",
    "            string_rep += ' |'.join(cells)\n",
    "            string_rep += ' |\\n'\n",
    "\n",
    "        str_len = int(len(string_rep) / self.dim_size)\n",
    "        string_rep = indices_row + '-'*str_len + '\\n' + string_rep + '-'*str_len\n",
    "\n",
    "        return string_rep\n",
    "\n",
    "\n",
    "def play(dim_size = 10, num_bombs = 10):\n",
    "    board = Board(dim_size,num_bombs)\n",
    "    \n",
    "    \n",
    "    safe = True\n",
    "    \n",
    "    while len(board.dug) < board.dim_size**2 - num_bombs:\n",
    "        print(board)\n",
    "        user_input = re.split(',(\\\\s)*',input('Where to dig? input as row,col: '))\n",
    "        row, col = int(user_input[0]), int(user_input[-1])\n",
    "        if row < 0 or row >= board.dim_size or col< 0 or col >= dim_size:\n",
    "            print('invalid location, try again')\n",
    "            \n",
    "        safe = board.dig(row,col)\n",
    "        if not safe:\n",
    "                \n",
    "            break\n",
    "                \n",
    "    if safe:\n",
    "        print('you win')\n",
    "    else:\n",
    "        print('game over')\n",
    "        \n",
    "        board.dug = [(r,c) for r in range(board.dim_size) for c in range(board.dim_size)]\n",
    "        \n",
    "        print(board)\n",
    "        \n",
    "play()"
   ]
  },
  {
   "cell_type": "code",
   "execution_count": null,
   "metadata": {},
   "outputs": [],
   "source": []
  },
  {
   "cell_type": "code",
   "execution_count": null,
   "metadata": {},
   "outputs": [],
   "source": []
  },
  {
   "cell_type": "markdown",
   "metadata": {},
   "source": [
    "# 10. Sudoku Solver"
   ]
  },
  {
   "cell_type": "code",
   "execution_count": 17,
   "metadata": {},
   "outputs": [],
   "source": [
    "import numpy as np"
   ]
  },
  {
   "cell_type": "code",
   "execution_count": null,
   "metadata": {},
   "outputs": [],
   "source": []
  },
  {
   "cell_type": "code",
   "execution_count": 19,
   "metadata": {},
   "outputs": [],
   "source": [
    "def find_next_empty(puzzle):\n",
    "    \n",
    "    \n",
    "    for r in range(9):\n",
    "        for c in range(9):\n",
    "            if puzzle[r][c] == -1:\n",
    "                return r,c\n",
    "            \n",
    "    return None,None\n",
    "\n",
    "def is_valid(puzzle,guess, row, col):\n",
    "    row_vals = puzzle[row]\n",
    "    if guess in row_vals:\n",
    "        \n",
    "        return False\n",
    "    \n",
    "    col_vals = [puzzle[i][col] for i in range(9)]\n",
    "    if guess in col_vals:\n",
    "        return False\n",
    "    \n",
    "    row_start = (row//3)*3\n",
    "    \n",
    "    col_start = (col//3)*3\n",
    "    \n",
    "    for r in range(row_start, row_start+3):\n",
    "        for c in range(col_start, col_start+3):\n",
    "            if puzzle[r][c]== guess:\n",
    "                return False\n",
    "    return True\n",
    "\n",
    "def solve_sudoku(puzzle):\n",
    "    \n",
    "    \n",
    "    row,col = find_next_empty(puzzle)\n",
    "    /\n",
    "    if row is None:\n",
    "        return True\n",
    "    \n",
    "    for guess in range(1,10):\n",
    "        if is_valid(puzzle,guess, row, col):\n",
    "            puzzle[row][col] = guess\n",
    "            \n",
    "            if solve_sudoku(puzzle):\n",
    "                return True\n",
    "            \n",
    "        puzzle[row][col] = -1\n",
    "        \n",
    "        \n",
    "    return False\n",
    "            "
   ]
  },
  {
   "cell_type": "code",
   "execution_count": null,
   "metadata": {},
   "outputs": [],
   "source": []
  },
  {
   "cell_type": "code",
   "execution_count": 20,
   "metadata": {
    "scrolled": false
   },
   "outputs": [
    {
     "name": "stdout",
     "output_type": "stream",
     "text": [
      "True\n",
      "[[3 9 1 8 5 6 4 2 7]\n",
      " [8 6 7 2 3 4 9 1 5]\n",
      " [4 2 5 7 1 9 6 8 3]\n",
      " [7 5 4 9 6 8 1 3 2]\n",
      " [2 1 6 4 7 3 5 9 8]\n",
      " [9 3 8 5 2 1 7 6 4]\n",
      " [5 4 3 6 9 2 8 7 1]\n",
      " [6 7 2 1 8 5 3 4 9]\n",
      " [1 8 9 3 4 7 2 5 6]]\n"
     ]
    }
   ],
   "source": [
    "example_board = [\n",
    "        [3, 9, -1,   -1, 5, -1,   -1, -1, -1],\n",
    "        [-1, -1, -1,   2, -1, -1,   -1, -1, 5],\n",
    "        [-1, -1, -1,   7, 1, 9,   -1, 8, -1],\n",
    "\n",
    "        [-1, 5, -1,   -1, 6, 8,   -1, -1, -1],\n",
    "        [2, -1, 6,   -1, -1, 3,   -1, -1, -1],\n",
    "        [-1, -1, -1,   -1, -1, -1,   -1, -1, 4],\n",
    "\n",
    "        [5, -1, -1,   -1, -1, -1,   -1, -1, -1],\n",
    "        [6, 7, -1,   1, -1, 5,   -1, 4, -1],\n",
    "        [1, -1, 9,   -1, -1, -1,   2, -1, -1]\n",
    "    ]\n",
    "print(solve_sudoku(example_board))\n",
    "\n",
    "print(np.array(example_board))"
   ]
  },
  {
   "cell_type": "code",
   "execution_count": null,
   "metadata": {},
   "outputs": [],
   "source": []
  },
  {
   "cell_type": "code",
   "execution_count": null,
   "metadata": {},
   "outputs": [],
   "source": []
  },
  {
   "cell_type": "code",
   "execution_count": null,
   "metadata": {},
   "outputs": [],
   "source": []
  }
 ],
 "metadata": {
  "kernelspec": {
   "display_name": "Python 3",
   "language": "python",
   "name": "python3"
  },
  "language_info": {
   "codemirror_mode": {
    "name": "ipython",
    "version": 3
   },
   "file_extension": ".py",
   "mimetype": "text/x-python",
   "name": "python",
   "nbconvert_exporter": "python",
   "pygments_lexer": "ipython3",
   "version": "3.7.3"
  }
 },
 "nbformat": 4,
 "nbformat_minor": 2
}
